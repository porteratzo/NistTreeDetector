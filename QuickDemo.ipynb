{
 "cells": [
  {
   "cell_type": "markdown",
   "metadata": {},
   "source": [
    "\"\"\"\n",
    "MIT License\n",
    "\n",
    "Copyright (c) 2021 porteratzo\n",
    "\n",
    "Permission is hereby granted, free of charge, to any person obtaining a copy\n",
    "of this software and associated documentation files (the \"Software\"), to deal\n",
    "in the Software without restriction, including without limitation the rights\n",
    "to use, copy, modify, merge, publish, distribute, sublicense, and/or sell\n",
    "copies of the Software, and to permit persons to whom the Software is\n",
    "furnished to do so, subject to the following conditions:\n",
    "\n",
    "The above copyright notice and this permission notice shall be included in all\n",
    "copies or substantial portions of the Software.\n",
    "\n",
    "THE SOFTWARE IS PROVIDED \"AS IS\", WITHOUT WARRANTY OF ANY KIND, EXPRESS OR\n",
    "IMPLIED, INCLUDING BUT NOT LIMITED TO THE WARRANTIES OF MERCHANTABILITY,\n",
    "FITNESS FOR A PARTICULAR PURPOSE AND NONINFRINGEMENT. IN NO EVENT SHALL THE\n",
    "AUTHORS OR COPYRIGHT HOLDERS BE LIABLE FOR ANY CLAIM, DAMAGES OR OTHER\n",
    "LIABILITY, WHETHER IN AN ACTION OF CONTRACT, TORT OR OTHERWISE, ARISING FROM,\n",
    "OUT OF OR IN CONNECTION WITH THE SOFTWARE OR THE USE OR OTHER DEALINGS IN THE\n",
    "SOFTWARE.\n",
    "\"\"\""
   ]
  },
  {
   "cell_type": "markdown",
   "metadata": {},
   "source": [
    "Introduction\n",
    "\n",
    "This document serves as a tutorial for using the treetool tool, a software for detecting trees in a point cloud and measuring their diameter at breast height (1.3 m). This document seeks to demonstrate the operation of treetool, whether used as a stand-alone application or integrated as a package with other applications.\n",
    "\n",
    "Usage guide\n",
    "\n",
    "Below we describe our demo notebook contained in the QuickDemo.ipynb file. This notebook illustrates the operation and use of our software, from loading a point cloud, viewing it, processing it with our algorithm and saving the results.\n"
   ]
  },
  {
   "cell_type": "markdown",
   "metadata": {},
   "source": [
    "Load the libraries that we will use and had previously installed"
   ]
  },
  {
   "cell_type": "code",
   "execution_count": null,
   "metadata": {},
   "outputs": [],
   "source": [
    "import os\n",
    "os.environ['OPEN3D_DISABLE_WEB_VISUALIZER'] = 'true'\n",
    "import open3d as o3d\n",
    "import numpy as np\n",
    "import treetool.seg_tree as seg_tree\n",
    "import treetool.utils as utils\n",
    "import treetool.tree_tool as tree_tool\n",
    "import pandas as pd\n",
    "from scipy.optimize import linear_sum_assignment\n",
    "import matplotlib.pyplot as plt\n",
    "from porteratzolibs.visualization_o3d import open3dpaint\n",
    "from porteratzolibs.visualization_o3d.open3d_pointsetClass import o3d_pointSetClass\n",
    "\n"
   ]
  },
  {
   "cell_type": "markdown",
   "metadata": {},
   "source": [
    "Load the point cloud from a .pcd using pclpy, we use our function seg_tree which contains many helper functions such as voxelize to down sample our point cloud and visualize using our Visualization function built on open3d. \n"
   ]
  },
  {
   "cell_type": "code",
   "execution_count": null,
   "metadata": {},
   "outputs": [],
   "source": [
    "file_directory = r'data/downsampledlesscloudEURO3.pcd'\n",
    "PointCloud = o3d.io.read_point_cloud(file_directory)\n",
    "PointCloudV = seg_tree.voxelize(PointCloud,0.06)\n",
    "open3dpaint(np.asarray(PointCloudV.points), pointsize = 2)"
   ]
  },
  {
   "cell_type": "code",
   "execution_count": null,
   "metadata": {},
   "outputs": [],
   "source": [
    "PointCloudV, PointCloud"
   ]
  },
  {
   "cell_type": "markdown",
   "metadata": {},
   "source": [
    "Tree tool is our main class that contains the routines for tree detection and DBH extraction"
   ]
  },
  {
   "cell_type": "code",
   "execution_count": null,
   "metadata": {},
   "outputs": [],
   "source": [
    "My_treetool = tree_tool.treetool(PointCloudV)"
   ]
  },
  {
   "cell_type": "markdown",
   "metadata": {},
   "source": [
    "Our tree top object has a series of functions that are performed to obtain DBH and tree detection."
   ]
  },
  {
   "cell_type": "code",
   "execution_count": null,
   "metadata": {},
   "outputs": [],
   "source": [
    "My_treetool.step_1_remove_floor()\n",
    "\n",
    "#Obtained attributes:\n",
    "#non_ground_cloud: All points in the point cloud that don't belong to the ground\n",
    "#ground_cloud: All points in the point cloud that belong to the ground\n",
    "open3dpaint([np.asarray(My_treetool.non_ground_cloud.points), np.asarray(My_treetool.ground_cloud.points)], voxel_size = 0.1)"
   ]
  },
  {
   "cell_type": "markdown",
   "metadata": {},
   "source": [
    "Set Algorithm Parameters"
   ]
  },
  {
   "cell_type": "markdown",
   "metadata": {},
   "source": [
    "Run main process"
   ]
  },
  {
   "cell_type": "code",
   "execution_count": null,
   "metadata": {},
   "outputs": [],
   "source": [
    "open3dpaint(\n",
    "        [\n",
    "            o3d_pointSetClass(\n",
    "                np.asarray(My_treetool.non_filtered_points),\n",
    "                My_treetool.curvature,\n",
    "                name=\"curvature\",\n",
    "            ),\n",
    "            o3d_pointSetClass(\n",
    "                np.asarray(My_treetool.non_filtered_points),\n",
    "                My_treetool.verticality,\n",
    "                name=\"verticality\",\n",
    "            ),\n",
    "        ],\n",
    "        voxel_size=0.1,\n",
    "        pointsize=2,\n",
    "    )"
   ]
  },
  {
   "cell_type": "code",
   "execution_count": null,
   "metadata": {},
   "outputs": [],
   "source": [
    "# Get point normals for filtering\n",
    "\n",
    "# Obtained attributes:\n",
    "# non_filtered_points: Same as non_ground_cloud\n",
    "# non_filtered_normals: Normals of points in non_filtered_points\n",
    "# filtered_points: Points that pass the normal filter\n",
    "# filtered_normals: Normals of points that pass the normal filter\n",
    "My_treetool.step_2_normal_filtering(\n",
    "    verticality_threshold=0.1, curvature_threshold=0.1, search_radius=0.12\n",
    ")\n",
    "open3dpaint(\n",
    "    [\n",
    "        np.asarray(My_treetool.non_ground_cloud.points),\n",
    "        np.asarray(My_treetool.non_filtered_points) + My_treetool.non_filtered_normals * 0.1,\n",
    "        np.asarray(My_treetool.non_filtered_points) + My_treetool.non_filtered_normals * 0.2,\n",
    "    ],\n",
    "    voxel_size=0.1,\n",
    ")\n",
    "\n",
    "open3dpaint(\n",
    "    [\n",
    "        np.asarray(My_treetool.filtered_points),\n",
    "        np.asarray(My_treetool.filtered_points) + My_treetool.filtered_normals * 0.05,\n",
    "        np.asarray(My_treetool.filtered_points) + My_treetool.filtered_normals * 0.1,\n",
    "    ],\n",
    "    voxel_size=0.1,\n",
    ")"
   ]
  },
  {
   "cell_type": "code",
   "execution_count": null,
   "metadata": {},
   "outputs": [],
   "source": [
    "My_treetool.step_3_dbscan_clustering(eps=0.4, min_cluster_size=20)\n",
    "\n",
    "# Obtained attributes:\n",
    "# cluster_list: List of all clusters obtained with Euclidean Clustering\n",
    "\n",
    "open3dpaint(My_treetool.cluster_list, voxel_size=0.1)"
   ]
  },
  {
   "cell_type": "code",
   "execution_count": null,
   "metadata": {},
   "outputs": [],
   "source": [
    "#Group stem segments\n",
    "My_treetool.step_4_group_stems(max_distance=0.4)\n",
    "\n",
    "#Obtained attributes:\n",
    "#complete_Stems: List of all complete stems obtained by joining clusters belonging to the same tree\n",
    "            \n",
    "open3dpaint(My_treetool.complete_Stems, voxel_size = 0.1)"
   ]
  },
  {
   "cell_type": "code",
   "execution_count": null,
   "metadata": {},
   "outputs": [],
   "source": [
    "My_treetool.step_5_get_ground_level_trees(lowstems_height=5, cutstems_height=5)\n",
    "\n",
    "#Obtained attributes:\n",
    "#low_stems: List of all stems truncated to the specified height\n",
    "\n",
    "open3dpaint(My_treetool.low_stems , voxel_size = 0.1)"
   ]
  },
  {
   "cell_type": "code",
   "execution_count": null,
   "metadata": {},
   "outputs": [],
   "source": [
    "My_treetool.step_6_get_cylinder_tree_models(search_radius=0.1)\n",
    "\n",
    "#Obtained attributes:\n",
    "#finalstems: List of Dictionaries with two keys 'tree' which contains the points used to fit the cylinder model and 'model' which contains the cylinder model parameters\n",
    "#visualization_cylinders: List of the pointclouds that represent the tree modeled with a cylinder\n",
    "\n",
    "open3dpaint([i['tree'] for i in My_treetool.finalstems] + My_treetool.visualization_cylinders, voxel_size = 0.1)\n",
    "     "
   ]
  },
  {
   "cell_type": "code",
   "execution_count": null,
   "metadata": {},
   "outputs": [],
   "source": [
    "My_treetool.step_7_ellipse_fit()\n",
    "\n",
    "#Obtained attributes:\n",
    "#Three new keys in our finalstems dictionaries:\n",
    "#final_diameter: Final DBH of every tree\n",
    "#cylinder_diameter: DBH obtained with cylinder fitting\n",
    "#ellipse_diameter;DBH obtained with Ellipse fitting"
   ]
  },
  {
   "cell_type": "markdown",
   "metadata": {},
   "source": [
    "Finally, we save the extracted trees and their DBH"
   ]
  },
  {
   "cell_type": "code",
   "execution_count": null,
   "metadata": {},
   "outputs": [],
   "source": [
    "My_treetool.save_results(save_location = 'results/myresults.csv')"
   ]
  },
  {
   "cell_type": "markdown",
   "metadata": {},
   "source": [
    "Load Cloud and visualize"
   ]
  },
  {
   "cell_type": "markdown",
   "metadata": {},
   "source": [
    "WARNING: Please adjust the path before executing"
   ]
  },
  {
   "cell_type": "code",
   "execution_count": null,
   "metadata": {},
   "outputs": [],
   "source": [
    "file_directory = r'data/downsampledlesscloudEURO3.pcd'\n",
    "PointCloud = o3d.io.read_point_cloud(file_directory)\n",
    "PointCloudV = seg_tree.voxelize(PointCloud,0.06)"
   ]
  },
  {
   "cell_type": "code",
   "execution_count": null,
   "metadata": {},
   "outputs": [],
   "source": [
    "My_treetool.point_cloud = tree_tool.set_point_cloud(PointCloudV)"
   ]
  },
  {
   "cell_type": "code",
   "execution_count": null,
   "metadata": {},
   "outputs": [],
   "source": [
    "My_treetool.full_process(verticality_threshold=0.1,\n",
    "    curvature_threshold=0.1,\n",
    "    tolerance=0.4,\n",
    "    min_cluster_size=20,\n",
    "    max_cluster_size=6000000,\n",
    "    max_distance=0.4,\n",
    "    lowstems_height=5,\n",
    "    cutstems_height=5,\n",
    "    search_radius=0.1)\n",
    "\n",
    "cloud_match = [i['tree'] for i in My_treetool.finalstems]+[i for i in My_treetool.visualization_cylinders]\n",
    "open3dpaint(cloud_match+[np.asarray(PointCloudV.points)], voxel_size = 0.1)"
   ]
  },
  {
   "cell_type": "markdown",
   "metadata": {},
   "source": [
    "WARNING: Please adjust the path before executing"
   ]
  },
  {
   "cell_type": "code",
   "execution_count": null,
   "metadata": {},
   "outputs": [],
   "source": [
    "#####################################################\n",
    "#Get ground truth\n",
    "tree_data = pd.read_csv('data/TLS_Benchmarking_Plot_3_LHD.txt',sep = '\\t',names = ['x','y','height','DBH'])\n",
    "Xcor,Ycor,diam = tree_data.iloc[0,[0,1,3]]\n",
    "cylinders_from_GT = [utils.makecylinder(model=[Xcor, Ycor, 0,0,0,1,diam/2],height=10,density=20)]\n",
    "TreeDict = [np.array([Xcor,Ycor,diam])]\n",
    "for i,rows in tree_data.iloc[1:].iterrows():\n",
    "    Xcor,Ycor,diam = rows.iloc[[0,1,3]]\n",
    "    if not np.any(np.isnan([Xcor,Ycor,diam])):\n",
    "        cylinders_from_GT.append(utils.makecylinder(model=[Xcor, Ycor, 0,0,0,1,diam/2],height=10,density=10))\n",
    "        TreeDict.append(np.array([Xcor,Ycor,diam]))\n",
    "cloud_of_cylinders_from_GT = [p for i in cylinders_from_GT for p in i]\n",
    "\n",
    "#DataBase\n",
    "#Found trees\n",
    "#Hungarian Algorithm assignment\n",
    "CostMat = np.ones([len(TreeDict),len(My_treetool.visualization_cylinders)])\n",
    "for X,datatree in enumerate(TreeDict):\n",
    "    for Y,foundtree in enumerate(My_treetool.finalstems):\n",
    "        CostMat[X,Y] = np.linalg.norm([datatree[0:2]-foundtree['model'][0:2]])\n",
    "\n",
    "dataindex, foundindex = linear_sum_assignment(CostMat,maximize=False)\n",
    "\n",
    "#Get metrics\n",
    "locationerror = []\n",
    "correctlocationerror = []\n",
    "diametererror = []\n",
    "diametererrorElipse = []\n",
    "diametererrorComb = []\n",
    "cloud_match = []\n",
    "for i,j in zip(dataindex, foundindex):\n",
    "    locationerror.append(np.linalg.norm((My_treetool.finalstems[j]['model'][0:2]-TreeDict[i][0:2])))\n",
    "    if locationerror[-1]<0.6:\n",
    "        if My_treetool.finalstems[j]['cylinder_diameter'] is not None:\n",
    "            diametererror.append(abs(My_treetool.finalstems[j]['cylinder_diameter']-TreeDict[i][2]))        \n",
    "            diametererrorElipse.append(abs(My_treetool.finalstems[j]['ellipse_diameter']-TreeDict[i][2]))        \n",
    "            mindi = max(My_treetool.finalstems[j]['cylinder_diameter'],My_treetool.finalstems[j]['ellipse_diameter'])\n",
    "            mendi = np.mean([My_treetool.finalstems[j]['cylinder_diameter'],My_treetool.finalstems[j]['ellipse_diameter']])\n",
    "            diametererrorComb.append(abs(mindi-TreeDict[i][2]))\n",
    "            correctlocationerror.append(np.linalg.norm((My_treetool.finalstems[j]['model'][0:2]-TreeDict[i][0:2])))\n",
    "            cloud_match.append(np.vstack([cylinders_from_GT[i],My_treetool.finalstems[j]['tree'],My_treetool.visualization_cylinders[j]]))"
   ]
  },
  {
   "cell_type": "code",
   "execution_count": null,
   "metadata": {},
   "outputs": [],
   "source": [
    "n_ref = len(TreeDict)\n",
    "n_match = (len(diametererror))\n",
    "n_extr = len(locationerror) - n_match\n",
    "\n",
    "Completeness = n_match/n_ref\n",
    "Correctness = n_match/(n_extr+n_match)"
   ]
  },
  {
   "cell_type": "code",
   "execution_count": null,
   "metadata": {},
   "outputs": [],
   "source": [
    "plt.figure(figsize = (20,6))\n",
    "plt.subplot(1,3,1)\n",
    "plt.hist(diametererror,50)\n",
    "plt.title('Cylinder DBH error')\n",
    "\n",
    "plt.subplot(1,3,2)\n",
    "plt.hist(diametererrorComb,50)\n",
    "plt.title('Final DBH error')\n",
    "\n",
    "plt.subplot(1,3,3)\n",
    "plt.hist(correctlocationerror,50)\n",
    "plt.title('Location error')\n",
    "\n",
    "print('Total number of trees in Ground Truth: ', n_ref)\n",
    "print('Total number of trees matched with Ground Truth: ', n_match)\n",
    "print('Total number of trees extra trees found: ', n_extr)\n",
    "\n",
    "print('Percentage of matched trees: ', round(Completeness*100), '%')\n",
    "print('Percentage of correctly matched trees: ', round(Correctness*100), '%')\n",
    "\n",
    "print('Cylinder DBH mean Error: ', np.mean(diametererror),)\n",
    "print('Ellipse DBH mean Error: ', np.mean(diametererrorElipse))\n",
    "print('Final DBH mean Error: ', np.mean(diametererrorComb))"
   ]
  },
  {
   "cell_type": "code",
   "execution_count": null,
   "metadata": {},
   "outputs": [],
   "source": []
  }
 ],
 "metadata": {
  "kernelspec": {
   "display_name": "Python 3 (ipykernel)",
   "language": "python",
   "name": "python3"
  },
  "language_info": {
   "codemirror_mode": {
    "name": "ipython",
    "version": 3
   },
   "file_extension": ".py",
   "mimetype": "text/x-python",
   "name": "python",
   "nbconvert_exporter": "python",
   "pygments_lexer": "ipython3",
   "version": "3.8.16"
  },
  "vscode": {
   "interpreter": {
    "hash": "916dbcbb3f70747c44a77c7bcd40155683ae19c65e1c03b4aa3499c5328201f1"
   }
  }
 },
 "nbformat": 4,
 "nbformat_minor": 4
}
