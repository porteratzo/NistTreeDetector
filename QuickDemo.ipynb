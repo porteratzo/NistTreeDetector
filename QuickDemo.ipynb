{
 "cells": [
  {
   "cell_type": "markdown",
   "metadata": {},
   "source": [
    "\"\"\"\n",
    "MIT License\n",
    "\n",
    "Copyright (c) 2021 porteratzo\n",
    "\n",
    "Permission is hereby granted, free of charge, to any person obtaining a copy\n",
    "of this software and associated documentation files (the \"Software\"), to deal\n",
    "in the Software without restriction, including without limitation the rights\n",
    "to use, copy, modify, merge, publish, distribute, sublicense, and/or sell\n",
    "copies of the Software, and to permit persons to whom the Software is\n",
    "furnished to do so, subject to the following conditions:\n",
    "\n",
    "The above copyright notice and this permission notice shall be included in all\n",
    "copies or substantial portions of the Software.\n",
    "\n",
    "THE SOFTWARE IS PROVIDED \"AS IS\", WITHOUT WARRANTY OF ANY KIND, EXPRESS OR\n",
    "IMPLIED, INCLUDING BUT NOT LIMITED TO THE WARRANTIES OF MERCHANTABILITY,\n",
    "FITNESS FOR A PARTICULAR PURPOSE AND NONINFRINGEMENT. IN NO EVENT SHALL THE\n",
    "AUTHORS OR COPYRIGHT HOLDERS BE LIABLE FOR ANY CLAIM, DAMAGES OR OTHER\n",
    "LIABILITY, WHETHER IN AN ACTION OF CONTRACT, TORT OR OTHERWISE, ARISING FROM,\n",
    "OUT OF OR IN CONNECTION WITH THE SOFTWARE OR THE USE OR OTHER DEALINGS IN THE\n",
    "SOFTWARE.\n",
    "\"\"\""
   ]
  },
  {
   "cell_type": "markdown",
   "metadata": {},
   "source": [
    "Introduction\n",
    "\n",
    "This document serves as a tutorial for using the treetool tool, a software for detecting trees in a point cloud and measuring their diameter at breast height (1.3 m). This document seeks to demonstrate the operation of treetool, whether used as a stand-alone application or integrated as a package with other applications.\n",
    "\n",
    "Usage guide\n",
    "\n",
    "Below we describe our demo notebook contained in the QuickDemo.ipynb file. This notebook illustrates the operation and use of our software, from loading a point cloud, viewing it, processing it with our algorithm and saving the results.\n"
   ]
  },
  {
   "cell_type": "markdown",
   "metadata": {},
   "source": [
    "Load the libraries that we will use and had previously installed"
   ]
  },
  {
   "cell_type": "code",
   "execution_count": 1,
   "metadata": {},
   "outputs": [],
   "source": [
    "import os\n",
    "\n",
    "os.environ[\"OPEN3D_DISABLE_WEB_VISUALIZER\"] = \"true\"\n",
    "import open3d as o3d\n",
    "import numpy as np\n",
    "import treetool.seg_tree as seg_tree\n",
    "import treetool.utils as utils\n",
    "import treetool.tree_tool as tree_tool\n",
    "import pandas as pd\n",
    "from scipy.optimize import linear_sum_assignment\n",
    "import matplotlib.pyplot as plt\n",
    "from porteratzo3D.visualization.open3d_vis import open3dpaint\n",
    "from porteratzo3D.visualization.open3d_pointset_class import O3dPointSetClass"
   ]
  },
  {
   "cell_type": "markdown",
   "metadata": {},
   "source": [
    "Load the point cloud from a .pcd using pclpy, we use our function seg_tree which contains many helper functions such as voxelize to down sample our point cloud and visualize using our Visualization function built on open3d. \n"
   ]
  },
  {
   "cell_type": "code",
   "execution_count": 2,
   "metadata": {},
   "outputs": [
    {
     "name": "stdout",
     "output_type": "stream",
     "text": [
      "FEngine (64 bits) created at 0x64d490eaea90 (threading is enabled)\n",
      "FEngine resolved backend: OpenGL\n"
     ]
    }
   ],
   "source": [
    "file_directory = r\"data/downsampledlesscloudEURO3.pcd\"\n",
    "pc_original = o3d.io.read_point_cloud(file_directory)\n",
    "pc_downsampled = seg_tree.voxelize(pc_original, 0.06)\n",
    "open3dpaint(np.asarray(pc_downsampled.points), pointsize=2)"
   ]
  },
  {
   "cell_type": "code",
   "execution_count": 3,
   "metadata": {},
   "outputs": [
    {
     "data": {
      "text/plain": [
       "(PointCloud with 7343999 points., PointCloud with 3301660 points.)"
      ]
     },
     "execution_count": 3,
     "metadata": {},
     "output_type": "execute_result"
    }
   ],
   "source": [
    "pc_original, pc_downsampled"
   ]
  },
  {
   "cell_type": "markdown",
   "metadata": {},
   "source": [
    "Tree tool is our main class that contains the routines for tree detection and DBH extraction"
   ]
  },
  {
   "cell_type": "code",
   "execution_count": 4,
   "metadata": {},
   "outputs": [],
   "source": [
    "My_treetool = tree_tool.treetool(pc_downsampled)"
   ]
  },
  {
   "cell_type": "markdown",
   "metadata": {},
   "source": [
    "Our tree top object has a series of functions that are performed to obtain DBH and tree detection."
   ]
  },
  {
   "cell_type": "code",
   "execution_count": null,
   "metadata": {},
   "outputs": [
    {
     "name": "stderr",
     "output_type": "stream",
     "text": [
      "imDefLkup.c,419: The application disposed a key event with 444 serial.\n"
     ]
    }
   ],
   "source": [
    "My_treetool.step_1_remove_floor()\n",
    "\n",
    "# Obtained attributes:\n",
    "# non_ground_cloud: All points in the point cloud that don't belong to the ground\n",
    "# ground_cloud: All points in the point cloud that belong to the ground\n",
    "open3dpaint(\n",
    "    [np.asarray(My_treetool.non_ground_cloud.points), np.asarray(My_treetool.ground_cloud.points)],\n",
    "    voxel_size=0.1,\n",
    ")"
   ]
  },
  {
   "cell_type": "markdown",
   "metadata": {},
   "source": [
    "Set Algorithm Parameters"
   ]
  },
  {
   "cell_type": "markdown",
   "metadata": {},
   "source": [
    "Run main process"
   ]
  },
  {
   "cell_type": "code",
   "execution_count": 24,
   "metadata": {},
   "outputs": [
    {
     "name": "stdout",
     "output_type": "stream",
     "text": [
      "1 1.7964000107895117e-05\n",
      "1 0.01770327200028987\n",
      "2 4.818900015379768e-05\n",
      "3 2.5470104289997835\n",
      "4 2.448223266000241\n",
      "5 6.0723999922629446e-05\n",
      "6 2.296078980999482\n",
      "7 0.02760200300053839\n",
      "2 0.0003022959999725572\n",
      "3 0.0573318790002304\n",
      "4 0.011528658000315772\n",
      "5 0.026435220000166737\n"
     ]
    }
   ],
   "source": [
    "# Get point normals for filtering\n",
    "\n",
    "# Obtained attributes:\n",
    "# non_filtered_points: Same as non_ground_cloud\n",
    "# non_filtered_normals: Normals of points in non_filtered_points\n",
    "# filtered_points: Points that pass the normal filter\n",
    "# filtered_normals: Normals of points that pass the normal filter\n",
    "from tictoc import timer\n",
    "\n",
    "My_treetool.step_2_normal_filtering(\n",
    "    verticality_threshold=0.08, curvature_threshold=0.08, search_radius=0.08\n",
    ")\n",
    "open3dpaint(\n",
    "    [\n",
    "        np.asarray(My_treetool.non_ground_cloud.points),\n",
    "        np.asarray(My_treetool.filtered_points),\n",
    "    ],\n",
    "    voxel_size=0.1\n",
    ")\n"
   ]
  },
  {
   "cell_type": "code",
   "execution_count": 20,
   "metadata": {},
   "outputs": [],
   "source": [
    "curv_bool = My_treetool.curvature < 0.5\n",
    "ver_bool = My_treetool.verticality < 0.5\n",
    "\n",
    "show_points_curv = np.asarray(My_treetool.non_filtered_points)[curv_bool,:]\n",
    "show_colors_curv = My_treetool.curvature[curv_bool]\n",
    "\n",
    "show_points_ver = np.asarray(My_treetool.non_filtered_points)[ver_bool.ravel(),:]\n",
    "show_colors_ver = My_treetool.verticality[ver_bool]\n"
   ]
  },
  {
   "cell_type": "code",
   "execution_count": 22,
   "metadata": {},
   "outputs": [
    {
     "data": {
      "image/png": "[encoded data removed]",
      "text/plain": [
       "<Figure size 640x480 with 3 Axes>"
      ]
     },
     "metadata": {},
     "output_type": "display_data"
    }
   ],
   "source": [
    "filter_points = np.asarray(My_treetool.filtered_points)\n",
    "open3dpaint(\n",
    "    [\n",
    "        O3dPointSetClass(\n",
    "            show_points_curv,\n",
    "            show_colors_curv,\n",
    "            name=\"curvature\",show_color_bars=True\n",
    "        ),\n",
    "        O3dPointSetClass(\n",
    "            show_points_ver,\n",
    "            show_colors_ver,\n",
    "            name=\"verticality\",show_color_bars=True\n",
    "        ),\n",
    "    ],\n",
    "    voxel_size=0.1,\n",
    "    pointsize=2,show_color_bars=True\n",
    ")"
   ]
  },
  {
   "cell_type": "code",
   "execution_count": 25,
   "metadata": {},
   "outputs": [],
   "source": [
    "My_treetool.step_3_dbscan_clustering(eps=0.4, min_cluster_size=20)\n",
    "\n",
    "# Obtained attributes:\n",
    "# cluster_list: List of all clusters obtained with Euclidean Clustering\n",
    "\n",
    "open3dpaint(My_treetool.cluster_list, voxel_size=0.1)"
   ]
  },
  {
   "cell_type": "code",
   "execution_count": 26,
   "metadata": {},
   "outputs": [],
   "source": [
    "# Group stem segments\n",
    "My_treetool.step_4_group_stems(max_distance=0.4)\n",
    "\n",
    "# Obtained attributes:\n",
    "# complete_Stems: List of all complete stems obtained by joining clusters belonging to the same tree\n",
    "\n",
    "open3dpaint(My_treetool.complete_Stems, voxel_size=0.1)"
   ]
  },
  {
   "cell_type": "code",
   "execution_count": 27,
   "metadata": {},
   "outputs": [],
   "source": [
    "My_treetool.step_5_get_ground_level_trees(lowstems_height=5, cutstems_height=5)\n",
    "\n",
    "# Obtained attributes:\n",
    "# low_stems: List of all stems truncated to the specified height\n",
    "\n",
    "open3dpaint(My_treetool.low_stems, voxel_size=0.1)"
   ]
  },
  {
   "cell_type": "code",
   "execution_count": 28,
   "metadata": {},
   "outputs": [],
   "source": [
    "My_treetool.step_6_get_cylinder_tree_models(search_radius=0.1)\n",
    "\n",
    "# Obtained attributes:\n",
    "# finalstems: List of Dictionaries with two keys 'tree' which contains the points used to fit the cylinder model and 'model' which contains the cylinder model parameters\n",
    "# visualization_cylinders: List of the pointclouds that represent the tree modeled with a cylinder\n",
    "\n",
    "open3dpaint(\n",
    "    [i[\"tree\"] for i in My_treetool.finalstems] + My_treetool.visualization_cylinders,\n",
    "    voxel_size=0.1,\n",
    ")"
   ]
  },
  {
   "cell_type": "code",
   "execution_count": 29,
   "metadata": {},
   "outputs": [],
   "source": [
    "My_treetool.step_7_ellipse_fit()\n",
    "\n",
    "# Obtained attributes:\n",
    "# Three new keys in our finalstems dictionaries:\n",
    "# final_diameter: Final DBH of every tree\n",
    "# cylinder_diameter: DBH obtained with cylinder fitting\n",
    "# ellipse_diameter;DBH obtained with Ellipse fitting"
   ]
  },
  {
   "cell_type": "markdown",
   "metadata": {},
   "source": [
    "Finally, we save the extracted trees and their DBH"
   ]
  },
  {
   "cell_type": "code",
   "execution_count": null,
   "metadata": {},
   "outputs": [],
   "source": [
    "My_treetool.save_results(save_location=\"results/myresults.csv\")"
   ]
  },
  {
   "cell_type": "markdown",
   "metadata": {},
   "source": [
    "Load Cloud and visualize"
   ]
  },
  {
   "cell_type": "markdown",
   "metadata": {},
   "source": [
    "WARNING: Please adjust the path before executing"
   ]
  },
  {
   "cell_type": "code",
   "execution_count": null,
   "metadata": {},
   "outputs": [],
   "source": [
    "file_directory = r\"data/downsampledlesscloudEURO3.pcd\"\n",
    "pc_original = o3d.io.read_point_cloud(file_directory)\n",
    "pc_downsampled = seg_tree.voxelize(pc_original, 0.06)"
   ]
  },
  {
   "cell_type": "code",
   "execution_count": null,
   "metadata": {},
   "outputs": [],
   "source": [
    "My_treetool.point_cloud = tree_tool.set_point_cloud(pc_downsampled)"
   ]
  },
  {
   "cell_type": "code",
   "execution_count": null,
   "metadata": {},
   "outputs": [],
   "source": [
    "My_treetool.full_process(\n",
    "    verticality_threshold=0.1,\n",
    "    curvature_threshold=0.1,\n",
    "    dbscan_eps=0.4,\n",
    "    min_cluster_size=20,\n",
    "    group_stems_max_distance=0.4,\n",
    "    lowstems_height=5,\n",
    "    cutstems_height=5,\n",
    "    search_radius=0.1,\n",
    ")\n",
    "\n",
    "cloud_match = [i[\"tree\"] for i in My_treetool.finalstems] + [\n",
    "    i for i in My_treetool.visualization_cylinders\n",
    "]\n",
    "open3dpaint(cloud_match + [np.asarray(pc_downsampled.points)], voxel_size=0.1)"
   ]
  },
  {
   "cell_type": "markdown",
   "metadata": {},
   "source": [
    "WARNING: Please adjust the path before executing"
   ]
  },
  {
   "cell_type": "code",
   "execution_count": null,
   "metadata": {},
   "outputs": [],
   "source": [
    "#####################################################\n",
    "# Get ground truth\n",
    "tree_data = pd.read_csv(\n",
    "    \"data/TLS_Benchmarking_Plot_3_LHD.txt\", sep=\"\\t\", names=[\"x\", \"y\", \"height\", \"DBH\"]\n",
    ")\n",
    "Xcor, Ycor, diam = tree_data.iloc[0, [0, 1, 3]]\n",
    "cylinders_from_GT = [\n",
    "    utils.makecylinder(model=[Xcor, Ycor, 0, 0, 0, 1, diam / 2], height=10, density=20)\n",
    "]\n",
    "TreeDict = [np.array([Xcor, Ycor, diam])]\n",
    "for i, rows in tree_data.iloc[1:].iterrows():\n",
    "    Xcor, Ycor, diam = rows.iloc[[0, 1, 3]]\n",
    "    if not np.any(np.isnan([Xcor, Ycor, diam])):\n",
    "        cylinders_from_GT.append(\n",
    "            utils.makecylinder(model=[Xcor, Ycor, 0, 0, 0, 1, diam / 2], height=10, density=10)\n",
    "        )\n",
    "        TreeDict.append(np.array([Xcor, Ycor, diam]))\n",
    "cloud_of_cylinders_from_GT = [p for i in cylinders_from_GT for p in i]\n",
    "\n",
    "# DataBase\n",
    "# Found trees\n",
    "# Hungarian Algorithm assignment\n",
    "CostMat = np.ones([len(TreeDict), len(My_treetool.visualization_cylinders)])\n",
    "for X, datatree in enumerate(TreeDict):\n",
    "    for Y, foundtree in enumerate(My_treetool.finalstems):\n",
    "        CostMat[X, Y] = np.linalg.norm([datatree[0:2] - foundtree[\"model\"][0:2]])\n",
    "\n",
    "dataindex, foundindex = linear_sum_assignment(CostMat, maximize=False)\n",
    "\n",
    "# Get metrics\n",
    "locationerror = []\n",
    "correctlocationerror = []\n",
    "diametererror = []\n",
    "diametererrorElipse = []\n",
    "diametererrorComb = []\n",
    "cloud_match = []\n",
    "for i, j in zip(dataindex, foundindex):\n",
    "    locationerror.append(\n",
    "        np.linalg.norm((My_treetool.finalstems[j][\"model\"][0:2] - TreeDict[i][0:2]))\n",
    "    )\n",
    "    if locationerror[-1] < 0.6:\n",
    "        if My_treetool.finalstems[j][\"cylinder_diameter\"] is not None:\n",
    "            diametererror.append(\n",
    "                abs(My_treetool.finalstems[j][\"cylinder_diameter\"] - TreeDict[i][2])\n",
    "            )\n",
    "            diametererrorElipse.append(\n",
    "                abs(My_treetool.finalstems[j][\"ellipse_diameter\"] - TreeDict[i][2])\n",
    "            )\n",
    "            mindi = max(\n",
    "                My_treetool.finalstems[j][\"cylinder_diameter\"],\n",
    "                My_treetool.finalstems[j][\"ellipse_diameter\"],\n",
    "            )\n",
    "            mendi = np.mean(\n",
    "                [\n",
    "                    My_treetool.finalstems[j][\"cylinder_diameter\"],\n",
    "                    My_treetool.finalstems[j][\"ellipse_diameter\"],\n",
    "                ]\n",
    "            )\n",
    "            diametererrorComb.append(abs(mindi - TreeDict[i][2]))\n",
    "            correctlocationerror.append(\n",
    "                np.linalg.norm((My_treetool.finalstems[j][\"model\"][0:2] - TreeDict[i][0:2]))\n",
    "            )\n",
    "            cloud_match.append(\n",
    "                np.vstack(\n",
    "                    [\n",
    "                        cylinders_from_GT[i],\n",
    "                        My_treetool.finalstems[j][\"tree\"],\n",
    "                        My_treetool.visualization_cylinders[j],\n",
    "                    ]\n",
    "                )\n",
    "            )"
   ]
  },
  {
   "cell_type": "code",
   "execution_count": null,
   "metadata": {},
   "outputs": [],
   "source": [
    "n_ref = len(TreeDict)\n",
    "n_match = len(diametererror)\n",
    "n_extr = len(locationerror) - n_match\n",
    "\n",
    "Completeness = n_match / n_ref\n",
    "Correctness = n_match / (n_extr + n_match)"
   ]
  },
  {
   "cell_type": "code",
   "execution_count": null,
   "metadata": {},
   "outputs": [],
   "source": [
    "plt.figure(figsize=(20, 6))\n",
    "plt.subplot(1, 3, 1)\n",
    "plt.hist(diametererror, 50)\n",
    "plt.title(\"Cylinder DBH error\")\n",
    "\n",
    "plt.subplot(1, 3, 2)\n",
    "plt.hist(diametererrorComb, 50)\n",
    "plt.title(\"Final DBH error\")\n",
    "\n",
    "plt.subplot(1, 3, 3)\n",
    "plt.hist(correctlocationerror, 50)\n",
    "plt.title(\"Location error\")\n",
    "\n",
    "print(\"Total number of trees in Ground Truth: \", n_ref)\n",
    "print(\"Total number of trees matched with Ground Truth: \", n_match)\n",
    "print(\"Total number of trees extra trees found: \", n_extr)\n",
    "\n",
    "print(\"Percentage of matched trees: \", round(Completeness * 100), \"%\")\n",
    "print(\"Percentage of correctly matched trees: \", round(Correctness * 100), \"%\")\n",
    "\n",
    "print(\n",
    "    \"Cylinder DBH mean Error: \",\n",
    "    np.mean(diametererror),\n",
    ")\n",
    "print(\"Ellipse DBH mean Error: \", np.mean(diametererrorElipse))\n",
    "print(\"Final DBH mean Error: \", np.mean(diametererrorComb))"
   ]
  },
  {
   "cell_type": "code",
   "execution_count": null,
   "metadata": {},
   "outputs": [],
   "source": []
  }
 ],
 "metadata": {
  "kernelspec": {
   "display_name": "treetool",
   "language": "python",
   "name": "python3"
  },
  "language_info": {
   "codemirror_mode": {
    "name": "ipython",
    "version": 3
   },
   "file_extension": ".py",
   "mimetype": "text/x-python",
   "name": "python",
   "nbconvert_exporter": "python",
   "pygments_lexer": "ipython3",
   "version": "3.10.16"
  }
 },
 "nbformat": 4,
 "nbformat_minor": 4
}
