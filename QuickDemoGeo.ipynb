{
 "cells": [
  {
   "cell_type": "markdown",
   "metadata": {},
   "source": [
    "\"\"\"\n",
    "MIT License\n",
    "\n",
    "Copyright (c) 2021 porteratzo\n",
    "\n",
    "Permission is hereby granted, free of charge, to any person obtaining a copy\n",
    "of this software and associated documentation files (the \"Software\"), to deal\n",
    "in the Software without restriction, including without limitation the rights\n",
    "to use, copy, modify, merge, publish, distribute, sublicense, and/or sell\n",
    "copies of the Software, and to permit persons to whom the Software is\n",
    "furnished to do so, subject to the following conditions:\n",
    "\n",
    "The above copyright notice and this permission notice shall be included in all\n",
    "copies or substantial portions of the Software.\n",
    "\n",
    "THE SOFTWARE IS PROVIDED \"AS IS\", WITHOUT WARRANTY OF ANY KIND, EXPRESS OR\n",
    "IMPLIED, INCLUDING BUT NOT LIMITED TO THE WARRANTIES OF MERCHANTABILITY,\n",
    "FITNESS FOR A PARTICULAR PURPOSE AND NONINFRINGEMENT. IN NO EVENT SHALL THE\n",
    "AUTHORS OR COPYRIGHT HOLDERS BE LIABLE FOR ANY CLAIM, DAMAGES OR OTHER\n",
    "LIABILITY, WHETHER IN AN ACTION OF CONTRACT, TORT OR OTHERWISE, ARISING FROM,\n",
    "OUT OF OR IN CONNECTION WITH THE SOFTWARE OR THE USE OR OTHER DEALINGS IN THE\n",
    "SOFTWARE.\n",
    "\"\"\""
   ]
  },
  {
   "cell_type": "markdown",
   "metadata": {},
   "source": [
    "Introduction\n",
    "\n",
    "This document serves as a tutorial for using the treetool tool, a software for detecting trees in a point cloud and measuring their diameter at breast height (1.3 m). This document seeks to demonstrate the operation of treetool, whether used as a stand-alone application or integrated as a package with other applications.\n",
    "\n",
    "Usage guide\n",
    "\n",
    "Below we describe our demo notebook contained in the QuickDemo.ipynb file. This notebook illustrates the operation and use of our software, from loading a point cloud, viewing it, processing it with our algorithm and saving the results.\n"
   ]
  },
  {
   "cell_type": "markdown",
   "metadata": {},
   "source": [
    "Load the libraries that we will use and had previously installed"
   ]
  },
  {
   "cell_type": "code",
   "execution_count": 1,
   "metadata": {},
   "outputs": [
    {
     "name": "stdout",
     "output_type": "stream",
     "text": [
      "Jupyter environment detected. Enabling Open3D WebVisualizer.\n",
      "[Open3D INFO] WebRTC GUI backend enabled.\n",
      "[Open3D INFO] WebRTCWindowSystem: HTTP handshake server disabled.\n"
     ]
    }
   ],
   "source": [
    "import pclpy\n",
    "import numpy as np\n",
    "import treetool.seg_tree as seg_tree\n",
    "import treetool.utils as utils\n",
    "import treetool.tree_tool as tree_tool\n",
    "import pandas as pd\n",
    "from scipy.optimize import linear_sum_assignment\n",
    "import matplotlib.pyplot as plt"
   ]
  },
  {
   "cell_type": "markdown",
   "metadata": {},
   "source": [
    "Load the point cloud from a .pcd using pclpy, we use our function seg_tree which contains many helper functions such as voxelize to down sample our point cloud and visualize using our Visualization function built on open3d. \n"
   ]
  },
  {
   "cell_type": "code",
   "execution_count": 2,
   "metadata": {},
   "outputs": [],
   "source": [
    "import laspy\n",
    "file_directory = r'data/plot_100_3_MLS.las'\n",
    "#file_directory = r'data/plot_10.las'\n",
    "with laspy.open(file_directory, 'r') as f:\n",
    "    data = f.read()"
   ]
  },
  {
   "cell_type": "code",
   "execution_count": 3,
   "metadata": {},
   "outputs": [
    {
     "data": {
      "text/plain": [
       "[]"
      ]
     },
     "execution_count": 3,
     "metadata": {},
     "output_type": "execute_result"
    }
   ],
   "source": [
    "data.vlrs"
   ]
  },
  {
   "cell_type": "code",
   "execution_count": 4,
   "metadata": {},
   "outputs": [],
   "source": [
    "points = utils.scaled_dimensions(data)"
   ]
  },
  {
   "cell_type": "code",
   "execution_count": 5,
   "metadata": {},
   "outputs": [],
   "source": [
    "PointCloud = pclpy.pcl.PointCloud.PointXYZ()\n",
    "PointCloudV = seg_tree.voxelize(points,0.04)\n",
    "utils.open3dpaint(PointCloudV, reduce_for_vis = True  , voxel_size = 0.04)"
   ]
  },
  {
   "cell_type": "markdown",
   "metadata": {},
   "source": [
    "Tree tool is our main class that contains the routines for tree detection and DBH extraction"
   ]
  },
  {
   "cell_type": "code",
   "execution_count": 6,
   "metadata": {},
   "outputs": [],
   "source": [
    "My_treetool = tree_tool.treetool(PointCloudV)"
   ]
  },
  {
   "cell_type": "markdown",
   "metadata": {},
   "source": [
    "Our tree top object has a series of functions that are performed to obtain DBH and tree detection."
   ]
  },
  {
   "cell_type": "code",
   "execution_count": 7,
   "metadata": {},
   "outputs": [],
   "source": [
    "My_treetool.step_1_remove_floor()\n",
    "\n",
    "#Obtained attributes:\n",
    "#non_ground_cloud: All points in the point cloud that don't belong to the ground\n",
    "#ground_cloud: All points in the point cloud that belong to the ground\n",
    "utils.open3dpaint([My_treetool.non_ground_cloud,My_treetool.ground_cloud],reduce_for_vis = True  , voxel_size = 0.1)"
   ]
  },
  {
   "cell_type": "markdown",
   "metadata": {},
   "source": [
    "Set Algorithm Parameters"
   ]
  },
  {
   "cell_type": "markdown",
   "metadata": {},
   "source": [
    "Run main process"
   ]
  },
  {
   "cell_type": "code",
   "execution_count": 8,
   "metadata": {},
   "outputs": [],
   "source": [
    "#Get point normals for filtering\n",
    "\n",
    "#Obtained attributes:\n",
    "#non_filtered_points: Same as non_ground_cloud\n",
    "#non_filtered_normals: Normals of points in non_filtered_points\n",
    "#filtered_points: Points that pass the normal filter\n",
    "#filtered_normals: Normals of points that pass the normal filter\n",
    "My_treetool.step_2_normal_filtering(verticality_threshold=0.04, curvature_threshold=0.06, search_radius=0.2)\n",
    "#utils.open3dpaint([My_treetool.non_ground_cloud.xyz, My_treetool.non_filtered_points.xyz + My_treetool.non_filtered_normals * 0.1, My_treetool.non_filtered_points.xyz + My_treetool.non_filtered_normals * 0.2], reduce_for_vis = True , voxel_size = 0.1)\n",
    "\n",
    "#utils.open3dpaint([My_treetool.filtered_points.xyz, My_treetool.filtered_points.xyz + My_treetool.filtered_normals * 0.05, My_treetool.filtered_points.xyz + My_treetool.filtered_normals * 0.1], reduce_for_vis = True , voxel_size = 0.1)\n",
    "utils.open3dpaint([My_treetool.non_filtered_points.xyz + 20, My_treetool.filtered_points.xyz, ], pointsize=2)"
   ]
  },
  {
   "cell_type": "code",
   "execution_count": 9,
   "metadata": {},
   "outputs": [],
   "source": [
    "My_treetool.step_3_euclidean_clustering(tolerance=0.4, min_cluster_size=40, max_cluster_size=6000000)\n",
    "\n",
    "#Obtained attributes:\n",
    "#cluster_list: List of all clusters obtained with Euclidean Clustering\n",
    "\n",
    "utils.open3dpaint(My_treetool.cluster_list,reduce_for_vis = True  , voxel_size = 0.1)"
   ]
  },
  {
   "cell_type": "code",
   "execution_count": 10,
   "metadata": {},
   "outputs": [],
   "source": [
    "#Group stem segments\n",
    "My_treetool.step_4_group_stems(max_distance=0.4)\n",
    "\n",
    "#Obtained attributes:\n",
    "#complete_Stems: List of all complete stems obtained by joining clusters belonging to the same tree\n",
    "            \n",
    "utils.open3dpaint(My_treetool.complete_Stems,reduce_for_vis = True  , voxel_size = 0.1)"
   ]
  },
  {
   "cell_type": "code",
   "execution_count": 11,
   "metadata": {},
   "outputs": [],
   "source": [
    "My_treetool.step_5_get_ground_level_trees(lowstems_height=5, cutstems_height=5)\n",
    "\n",
    "#Obtained attributes:\n",
    "#low_stems: List of all stems truncated to the specified height\n",
    "\n",
    "utils.open3dpaint(My_treetool.low_stems,reduce_for_vis = True  , voxel_size = 0.1)"
   ]
  },
  {
   "cell_type": "code",
   "execution_count": 12,
   "metadata": {},
   "outputs": [],
   "source": [
    "My_treetool.step_6_get_cylinder_tree_models(search_radius=0.1)\n",
    "\n",
    "#Obtained attributes:\n",
    "#finalstems: List of Dictionaries with two keys 'tree' which contains the points used to fit the cylinder model and 'model' which contains the cylinder model parameters\n",
    "#visualization_cylinders: List of the pointclouds that represent the tree modeled with a cylinder\n",
    "\n",
    "utils.open3dpaint([i['tree'] for i in My_treetool.finalstems] + My_treetool.visualization_cylinders,reduce_for_vis = True  , voxel_size = 0.1)\n",
    "     "
   ]
  },
  {
   "cell_type": "code",
   "execution_count": 13,
   "metadata": {},
   "outputs": [],
   "source": [
    "My_treetool.step_7_ellipse_fit()\n",
    "\n",
    "#Obtained attributes:\n",
    "#Three new keys in our finalstems dictionaries:\n",
    "#final_diameter: Final DBH of every tree\n",
    "#cylinder_diameter: DBH obtained with cylinder fitting\n",
    "#ellipse_diameter;DBH obtained with Ellipse fitting"
   ]
  },
  {
   "cell_type": "code",
   "execution_count": 14,
   "metadata": {},
   "outputs": [],
   "source": [
    "cloud_match = [i['tree'] for i in My_treetool.finalstems]+[i for i in My_treetool.visualization_cylinders]\n",
    "utils.open3dpaint(cloud_match+[PointCloudV], voxel_size = 0.1, pointsize=2)"
   ]
  },
  {
   "cell_type": "code",
   "execution_count": 15,
   "metadata": {},
   "outputs": [],
   "source": [
    "def getdata(treetool_obj):\n",
    "        \"\"\"\n",
    "        Save a csv with XYZ and DBH of each detected tree\n",
    "\n",
    "        Args:\n",
    "            savelocation : str\n",
    "                path to save file\n",
    "\n",
    "        Returns:\n",
    "            None\n",
    "        \"\"\"\n",
    "        tree_model_info = [i['model'] for i in treetool_obj.finalstems]\n",
    "        tree_diameter_info = [i['final_diameter'] for i in treetool_obj.finalstems]\n",
    "\n",
    "        data = {'X': [], 'Y': [], 'Z': [], 'DBH': []}\n",
    "        for i, j in zip(tree_model_info, tree_diameter_info):\n",
    "            data['X'].append(i[0])\n",
    "            data['Y'].append(i[1])\n",
    "            data['Z'].append(i[2])\n",
    "            data['DBH'].append(j)\n",
    "        return data"
   ]
  },
  {
   "cell_type": "code",
   "execution_count": 16,
   "metadata": {},
   "outputs": [],
   "source": [
    "tree_data = getdata(My_treetool)\n",
    "scales_tree_data = utils.Iscaled_dimensions(data, tree_data)\n",
    "data_to_save = tree_data.copy()\n",
    "data_to_save['X'] = scales_tree_data[:,0]\n",
    "data_to_save['Y'] = scales_tree_data[:,1]\n",
    "data_to_save['Z'] = scales_tree_data[:,2]"
   ]
  },
  {
   "cell_type": "code",
   "execution_count": 128,
   "metadata": {},
   "outputs": [],
   "source": [
    "import os\n",
    "save_location = 'results/myresults.csv'\n",
    "os.makedirs(os.path.dirname(save_location), exist_ok=True)\n",
    "\n",
    "pd.DataFrame.from_dict(data_to_save).to_csv(save_location)"
   ]
  }
 ],
 "metadata": {
  "kernelspec": {
   "display_name": "Python 3.8.15 ('treetool')",
   "language": "python",
   "name": "python3"
  },
  "language_info": {
   "codemirror_mode": {
    "name": "ipython",
    "version": 3
   },
   "file_extension": ".py",
   "mimetype": "text/x-python",
   "name": "python",
   "nbconvert_exporter": "python",
   "pygments_lexer": "ipython3",
   "version": "3.8.15"
  },
  "vscode": {
   "interpreter": {
    "hash": "76e9eda32a2a428dc598889c84ab52d5b79aff3c4c83cb7f99a1ad59d22c4243"
   }
  }
 },
 "nbformat": 4,
 "nbformat_minor": 4
}
